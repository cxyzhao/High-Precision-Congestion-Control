{
 "cells": [
  {
   "cell_type": "code",
   "execution_count": 2,
   "metadata": {},
   "outputs": [],
   "source": [
    "import sys\n",
    "import ray\n",
    "import time\n",
    "import math\n",
    "import os\n"
   ]
  },
  {
   "cell_type": "code",
   "execution_count": 3,
   "metadata": {},
   "outputs": [
    {
     "name": "stderr",
     "output_type": "stream",
     "text": [
      "2022-07-25 23:10:28,798\tINFO services.py:1092 -- View the Ray dashboard at \u001b[1m\u001b[32mhttp://127.0.0.1:8265\u001b[39m\u001b[22m\n"
     ]
    },
    {
     "data": {
      "text/plain": [
       "{'node_ip_address': '172.28.6.160',\n",
       " 'raylet_ip_address': '172.28.6.160',\n",
       " 'redis_address': '172.28.6.160:6379',\n",
       " 'object_store_address': '/tmp/ray/session_2022-07-25_23-10-28_329934_54024/sockets/plasma_store',\n",
       " 'raylet_socket_name': '/tmp/ray/session_2022-07-25_23-10-28_329934_54024/sockets/raylet',\n",
       " 'webui_url': '127.0.0.1:8265',\n",
       " 'session_dir': '/tmp/ray/session_2022-07-25_23-10-28_329934_54024',\n",
       " 'metrics_export_port': 64652,\n",
       " 'node_id': 'c72d0b90127f2a5090df01b41e79b61310d23523'}"
      ]
     },
     "execution_count": 3,
     "metadata": {},
     "output_type": "execute_result"
    }
   ],
   "source": [
    "ray.init()"
   ]
  },
  {
   "cell_type": "code",
   "execution_count": null,
   "metadata": {},
   "outputs": [
    {
     "name": "stdout",
     "output_type": "stream",
     "text": [
      "without incast: 100245\n",
      "with incast: 100245\n"
     ]
    },
    {
     "name": "stderr",
     "output_type": "stream",
     "text": [
      "\u001b[2m\u001b[36m(pid=54376)\u001b[0m Waf: Entering directory `/home/cxyzhao/High-Precision-Congestion-Control/simulation/build'\n",
      "\u001b[2m\u001b[36m(pid=54376)\u001b[0m Waf: Leaving directory `/home/cxyzhao/High-Precision-Congestion-Control/simulation/build'\n",
      "\u001b[2m\u001b[36m(pid=54376)\u001b[0m 'build' finished successfully (0.381s)\n"
     ]
    },
    {
     "name": "stdout",
     "output_type": "stream",
     "text": [
      "\u001b[2m\u001b[36m(pid=54376)\u001b[0m ENABLE_QCN\t\t\tYes\n",
      "\u001b[2m\u001b[36m(pid=54376)\u001b[0m USE_DYNAMIC_PFC_THRESHOLD\tYes\n",
      "\u001b[2m\u001b[36m(pid=54376)\u001b[0m PACKET_PAYLOAD_SIZE\t\t1000\n",
      "\u001b[2m\u001b[36m(pid=54376)\u001b[0m TOPOLOGY_FILE\t\t\tmix/2layer.txt\n",
      "\u001b[2m\u001b[36m(pid=54376)\u001b[0m FLOW_FILE\t\t\tmix/FbHdp_distribution_n64_load0.3_t0.05_incast0.txt\n",
      "\u001b[2m\u001b[36m(pid=54376)\u001b[0m TRACE_FILE\t\t\tmix/trace.txt\n",
      "\u001b[2m\u001b[36m(pid=54376)\u001b[0m TRACE_OUTPUT_FILE\t\tmix/mix_2layer_FbHdp_distribution_n64_load0.3_t0.05_incast0_hp95ai80.tr\n",
      "\u001b[2m\u001b[36m(pid=54376)\u001b[0m FCT_OUTPUT_FILE\t\tmix/fct_2layer_FbHdp_distribution_n64_load0.3_t0.05_incast0_hp95ai80.txt\n",
      "\u001b[2m\u001b[36m(pid=54376)\u001b[0m PFC_OUTPUT_FILE\t\t\t\tmix/pfc_2layer_FbHdp_distribution_n64_load0.3_t0.05_incast0_hp95ai80.txt\n",
      "\u001b[2m\u001b[36m(pid=54376)\u001b[0m SIMULATOR_STOP_TIME\t\t2.1\n",
      "\u001b[2m\u001b[36m(pid=54376)\u001b[0m CC_MODE\t\t3\n",
      "\u001b[2m\u001b[36m(pid=54376)\u001b[0m ALPHA_RESUME_INTERVAL\t\t1\n",
      "\u001b[2m\u001b[36m(pid=54376)\u001b[0m RATE_DECREASE_INTERVAL\t\t4\n",
      "\u001b[2m\u001b[36m(pid=54376)\u001b[0m CLAMP_TARGET_RATE\t\tNo\n",
      "\u001b[2m\u001b[36m(pid=54376)\u001b[0m RP_TIMER\t\t\t300\n",
      "\u001b[2m\u001b[36m(pid=54376)\u001b[0m EWMA_GAIN\t\t\t0.00390625\n",
      "\u001b[2m\u001b[36m(pid=54376)\u001b[0m FAST_RECOVERY_TIMES\t\t1\n",
      "\u001b[2m\u001b[36m(pid=54376)\u001b[0m RATE_AI\t\t\t\t80Mb/s\n",
      "\u001b[2m\u001b[36m(pid=54376)\u001b[0m RATE_HAI\t\t\t80Mb/s\n",
      "\u001b[2m\u001b[36m(pid=54376)\u001b[0m MIN_RATE\t\t1000Mb/s\n",
      "\u001b[2m\u001b[36m(pid=54376)\u001b[0m DCTCP_RATE_AI\t\t\t\t1000Mb/s\n",
      "\u001b[2m\u001b[36m(pid=54376)\u001b[0m ERROR_RATE_PER_LINK\t\t0\n",
      "\u001b[2m\u001b[36m(pid=54376)\u001b[0m L2_CHUNK_SIZE\t\t\t4000\n",
      "\u001b[2m\u001b[36m(pid=54376)\u001b[0m L2_ACK_INTERVAL\t\t\t1\n",
      "\u001b[2m\u001b[36m(pid=54376)\u001b[0m L2_BACK_TO_ZERO\t\t\tNo\n",
      "\u001b[2m\u001b[36m(pid=54376)\u001b[0m HAS_WIN\t\t1\n",
      "\u001b[2m\u001b[36m(pid=54376)\u001b[0m GLOBAL_T\t\t0\n",
      "\u001b[2m\u001b[36m(pid=54376)\u001b[0m VAR_WIN\t\t1\n",
      "\u001b[2m\u001b[36m(pid=54376)\u001b[0m FAST_REACT\t\t1\n",
      "\u001b[2m\u001b[36m(pid=54376)\u001b[0m U_TARGET\t\t0.95\n",
      "\u001b[2m\u001b[36m(pid=54376)\u001b[0m MI_THRESH\t\t0\n",
      "\u001b[2m\u001b[36m(pid=54376)\u001b[0m INT_MULTI\t\t\t\t4\n",
      "\u001b[2m\u001b[36m(pid=54376)\u001b[0m MULTI_RATE\t\t\t\t0\n",
      "\u001b[2m\u001b[36m(pid=54376)\u001b[0m SAMPLE_FEEDBACK\t\t\t\t0\n",
      "\u001b[2m\u001b[36m(pid=54376)\u001b[0m PINT_LOG_BASE\t\t\t\t1.01\n",
      "\u001b[2m\u001b[36m(pid=54376)\u001b[0m PINT_PROB\t\t\t\t1\n",
      "\u001b[2m\u001b[36m(pid=54376)\u001b[0m RATE_BOUND\t\t1\n",
      "\u001b[2m\u001b[36m(pid=54376)\u001b[0m ACK_HIGH_PRIO\t\t0\n",
      "\u001b[2m\u001b[36m(pid=54376)\u001b[0m LINK_DOWN\t\t\t\t0 0 0\n",
      "\u001b[2m\u001b[36m(pid=54376)\u001b[0m ENABLE_TRACE\t\t\t\t0\n",
      "\u001b[2m\u001b[36m(pid=54376)\u001b[0m KMAX_MAP\t\t\t\t 100000000000 1600 400000000000 6400\n",
      "\u001b[2m\u001b[36m(pid=54376)\u001b[0m KMIN_MAP\t\t\t\t 100000000000 400 400000000000 1600\n",
      "\u001b[2m\u001b[36m(pid=54376)\u001b[0m PMAX_MAP\t\t\t\t 100000000000 0.2 400000000000 0.2\n",
      "\u001b[2m\u001b[36m(pid=54376)\u001b[0m BUFFER_SIZE\t\t\t\t12\n",
      "\u001b[2m\u001b[36m(pid=54376)\u001b[0m QLEN_MON_FILE\t\t\t\tmix/qlen_2layer_FbHdp_distribution_n64_load0.3_t0.05_incast0_hp95ai80.txt\n",
      "\u001b[2m\u001b[36m(pid=54376)\u001b[0m QLEN_MON_START\t\t\t\t2000000000\n",
      "\u001b[2m\u001b[36m(pid=54376)\u001b[0m QLEN_MON_END\t\t\t\t3000000000\n",
      "\u001b[2m\u001b[36m(pid=54376)\u001b[0m maxRtt=8320 maxBdp=104000\n",
      "\u001b[2m\u001b[36m(pid=54376)\u001b[0m Running Simulation.\n"
     ]
    }
   ],
   "source": [
    "prefix = \"\"\n",
    "@ray.remote\n",
    "def launch(cc, trace):\n",
    "    work_dir = \"/home/cxyzhao/High-Precision-Congestion-Control/simulation\"\n",
    "    os.chdir(work_dir)\n",
    "    os.system(\"python run.py --c {} --trace {}  --bw 100 --topo 2layer --hpai 80\".format(cc, trace))\n",
    "\n",
    "\n",
    "def gen_trafic_config(wkld, nhost, load, time_s, incast):\n",
    "    work_dir = \"/home/cxyzhao/High-Precision-Congestion-Control/traffic_gen\"\n",
    "    os.chdir(work_dir)\n",
    "    output_name = \"{}_n{}_load{}_t{}_incast{}\".format(wkld, nhost, load, time_s, incast)\n",
    "    cmd = \"python traffic_gen.py -c {}.txt -n {} -l {} -b 100G -t {} -o {}.txt -i {}\".format(wkld, nhost, load, time_s, output_name, incast)\n",
    "    os.system(cmd)\n",
    "    mix_path =  work_dir = \"/home/cxyzhao/High-Precision-Congestion-Control/simulation/mix\"\n",
    "    os.system(\"cp ./{}.txt {}\".format(output_name, mix_path))\n",
    "    return output_name\n",
    "\n",
    "\n",
    "# for cc in [\"hp\"]:\n",
    "#     trace = \"w5_n64_l30\"\n",
    "#     f_id = launch.remote(cc, trace)\n",
    "#     ray.wait([f_id])\n",
    "\n",
    "prefix = gen_trafic_config(wkld=\"FbHdp_distribution\", nhost=64, load=0.3, time_s=0.050, incast=0)\n",
    "\n",
    "for cc in [\"hp\"]:\n",
    "    trace = prefix\n",
    "    f_id = launch.remote(cc, trace)\n",
    "    ray.wait([f_id])"
   ]
  },
  {
   "cell_type": "code",
   "execution_count": 9,
   "metadata": {},
   "outputs": [
    {
     "name": "stdout",
     "output_type": "stream",
     "text": [
      "\n"
     ]
    }
   ],
   "source": [
    "print(prefix)"
   ]
  },
  {
   "cell_type": "code",
   "execution_count": null,
   "metadata": {},
   "outputs": [],
   "source": []
  }
 ],
 "metadata": {
  "kernelspec": {
   "display_name": "Python 3 (ipykernel)",
   "language": "python",
   "name": "python3"
  },
  "language_info": {
   "codemirror_mode": {
    "name": "ipython",
    "version": 3
   },
   "file_extension": ".py",
   "mimetype": "text/x-python",
   "name": "python",
   "nbconvert_exporter": "python",
   "pygments_lexer": "ipython3",
   "version": "3.7.5"
  }
 },
 "nbformat": 4,
 "nbformat_minor": 2
}
